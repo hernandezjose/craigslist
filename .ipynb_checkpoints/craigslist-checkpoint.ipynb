{
 "cells": [
  {
   "cell_type": "code",
   "execution_count": 1,
   "metadata": {
    "collapsed": true
   },
   "outputs": [],
   "source": [
    "import constants\n",
    "\n",
    "from models import *\n",
    "from tinydb import TinyDB"
   ]
  },
  {
   "cell_type": "code",
   "execution_count": 2,
   "metadata": {
    "collapsed": true
   },
   "outputs": [],
   "source": [
    "db = TinyDB('database.json')\n",
    "engine = SearchEngine(db)"
   ]
  },
  {
   "cell_type": "code",
   "execution_count": 3,
   "metadata": {},
   "outputs": [
    {
     "name": "stdout",
     "output_type": "stream",
     "text": [
      "CACHED:  http://sfbay.craigslist.org/sfc/apa/6218571578.html\n",
      "CACHED:  http://sfbay.craigslist.org/sfc/apa/6178339033.html\n",
      "SEARCHED:  http://sfbay.craigslist.org/sfc/apa/6218485164.html\n",
      "CACHED:  http://sfbay.craigslist.org/sfc/apa/6218483913.html\n",
      "CACHED:  http://sfbay.craigslist.org/sfc/apa/6218466264.html\n",
      "CACHED:  http://sfbay.craigslist.org/sfc/apa/6209115717.html\n",
      "SEARCHED:  http://sfbay.craigslist.org/sfc/apa/6206147448.html\n",
      "SEARCHED:  http://sfbay.craigslist.org/sfc/apa/6211653293.html\n",
      "SEARCHED:  http://sfbay.craigslist.org/sfc/apa/6218329729.html\n",
      "SEARCHED:  http://sfbay.craigslist.org/sfc/apa/6218199988.html\n",
      "SEARCHED:  http://sfbay.craigslist.org/sfc/apa/6218118745.html\n",
      "SEARCHED:  http://sfbay.craigslist.org/sfc/apa/6218117054.html\n",
      "SEARCHED:  http://sfbay.craigslist.org/sfc/apa/6218117008.html\n",
      "SEARCHED:  http://sfbay.craigslist.org/sfc/apa/6218116853.html\n",
      "SEARCHED:  http://sfbay.craigslist.org/sfc/apa/6196599017.html\n",
      "SEARCHED:  http://sfbay.craigslist.org/sfc/apa/6176829578.html\n",
      "SEARCHED:  http://sfbay.craigslist.org/sfc/apa/6217918836.html\n",
      "SEARCHED:  http://sfbay.craigslist.org/sfc/apa/6217878499.html\n",
      "SEARCHED:  http://sfbay.craigslist.org/sfc/apa/6217750867.html\n",
      "SEARCHED:  http://sfbay.craigslist.org/sfc/apa/6217747971.html\n",
      "SEARCHED:  http://sfbay.craigslist.org/sfc/apa/6217707867.html\n",
      "CACHED:  http://sfbay.craigslist.org/sfc/apa/6200916697.html\n",
      "CACHED:  http://sfbay.craigslist.org/sfc/apa/6217747971.html\n",
      "CACHED:  http://sfbay.craigslist.org/sfc/apa/6217707867.html\n",
      "CACHED:  http://sfbay.craigslist.org/sfc/apa/6200916697.html\n",
      "SEARCHED:  http://sfbay.craigslist.org/sfc/apa/6179320311.html\n",
      "SEARCHED:  http://sfbay.craigslist.org/sfc/apa/6217657316.html\n",
      "CACHED:  http://sfbay.craigslist.org/sfc/apa/6217370553.html\n",
      "SEARCHED:  http://sfbay.craigslist.org/sfc/apa/6217234301.html\n",
      "SEARCHED:  http://sfbay.craigslist.org/sfc/apa/6217230717.html\n",
      "SEARCHED:  http://sfbay.craigslist.org/sfc/apa/6217205014.html\n",
      "SEARCHED:  http://sfbay.craigslist.org/sfc/apa/6217186836.html\n",
      "CACHED:  http://sfbay.craigslist.org/sfc/apa/6206646048.html\n",
      "CACHED:  http://sfbay.craigslist.org/sfc/apa/6212058819.html\n",
      "SEARCHED:  http://sfbay.craigslist.org/sfc/apa/6212154664.html\n",
      "SEARCHED:  http://sfbay.craigslist.org/sfc/apa/6197336491.html\n",
      "SEARCHED:  http://sfbay.craigslist.org/sfc/apa/6217124354.html\n",
      "SEARCHED:  http://sfbay.craigslist.org/sfc/apa/6202235685.html\n",
      "SEARCHED:  http://sfbay.craigslist.org/sfc/apa/6217011831.html\n",
      "SEARCHED:  http://sfbay.craigslist.org/sfc/apa/6216991948.html\n",
      "SEARCHED:  http://sfbay.craigslist.org/sfc/apa/6216908754.html\n",
      "SEARCHED:  http://sfbay.craigslist.org/sfc/apa/6207903317.html\n",
      "CACHED:  http://sfbay.craigslist.org/sfc/apa/6206932418.html\n",
      "CACHED:  http://sfbay.craigslist.org/sfc/apa/6209569616.html\n",
      "SEARCHED:  http://sfbay.craigslist.org/sfc/apa/6216775551.html\n",
      "CACHED:  http://sfbay.craigslist.org/sfc/apa/6216775551.html\n",
      "CACHED:  http://sfbay.craigslist.org/sfc/apa/6206740280.html\n",
      "SEARCHED:  http://sfbay.craigslist.org/sfc/apa/6208030733.html\n",
      "SEARCHED:  http://sfbay.craigslist.org/sfc/apa/6205599768.html\n",
      "SEARCHED:  http://sfbay.craigslist.org/sfc/apa/6216604051.html\n",
      "SEARCHED:  http://sfbay.craigslist.org/sfc/apa/6179765689.html\n",
      "SEARCHED:  http://sfbay.craigslist.org/sfc/apa/6209800598.html\n",
      "SEARCHED:  http://monterey.craigslist.org/apa/6216396939.html\n",
      "SEARCHED:  http://sfbay.craigslist.org/sfc/apa/6207223663.html\n",
      "SEARCHED:  http://sfbay.craigslist.org/sfc/apa/6216555445.html\n",
      "SEARCHED:  http://sfbay.craigslist.org/sfc/apa/6216549168.html\n",
      "SEARCHED:  http://sfbay.craigslist.org/sfc/apa/6216528393.html\n",
      "SEARCHED:  http://sfbay.craigslist.org/sfc/apa/6216439548.html\n",
      "SEARCHED:  http://sfbay.craigslist.org/sfc/apa/6193556942.html\n",
      "SEARCHED:  http://sfbay.craigslist.org/sfc/apa/6198763034.html\n",
      "CACHED:  http://sfbay.craigslist.org/sfc/apa/6216334717.html\n",
      "SEARCHED:  http://sfbay.craigslist.org/sfc/apa/6216303049.html\n",
      "SEARCHED:  http://sfbay.craigslist.org/pen/apa/6205961971.html\n",
      "SEARCHED:  http://sfbay.craigslist.org/pen/apa/6205962438.html\n",
      "SEARCHED:  http://sfbay.craigslist.org/pen/apa/6205963348.html\n",
      "SEARCHED:  http://sfbay.craigslist.org/pen/apa/6205964453.html\n",
      "SEARCHED:  http://sfbay.craigslist.org/pen/apa/6205965256.html\n",
      "CACHED:  http://sfbay.craigslist.org/sfc/apa/6186646708.html\n"
     ]
    }
   ],
   "source": [
    "listings = engine.search_all(50)"
   ]
  },
  {
   "cell_type": "code",
   "execution_count": 4,
   "metadata": {},
   "outputs": [
    {
     "data": {
      "text/plain": [
       "66"
      ]
     },
     "execution_count": 4,
     "metadata": {},
     "output_type": "execute_result"
    }
   ],
   "source": [
    "len(listings)"
   ]
  },
  {
   "cell_type": "code",
   "execution_count": 6,
   "metadata": {},
   "outputs": [
    {
     "name": "stdout",
     "output_type": "stream",
     "text": [
      "http://sfbay.craigslist.org/sfc/apa/6218571578.html $1500 31 17\n",
      "http://sfbay.craigslist.org/sfc/apa/6178339033.html $2700 9 7\n",
      "http://sfbay.craigslist.org/sfc/apa/6218483913.html $2395 40 28\n",
      "http://sfbay.craigslist.org/sfc/apa/6218466264.html $2250 23 26\n",
      "http://sfbay.craigslist.org/sfc/apa/6206147448.html $2700 31 35\n",
      "http://sfbay.craigslist.org/sfc/apa/6218118745.html $1116 27 24\n",
      "http://sfbay.craigslist.org/sfc/apa/6218117054.html $500 10 6\n",
      "http://sfbay.craigslist.org/sfc/apa/6218117008.html $500 10 6\n",
      "http://sfbay.craigslist.org/sfc/apa/6218116853.html $500 10 6\n",
      "http://sfbay.craigslist.org/sfc/apa/6176829578.html $3000 36 25\n",
      "http://sfbay.craigslist.org/sfc/apa/6217878499.html $2450 39 27\n",
      "http://sfbay.craigslist.org/sfc/apa/6200916697.html $1800 17 16\n",
      "http://sfbay.craigslist.org/sfc/apa/6200916697.html $1800 17 16\n",
      "http://sfbay.craigslist.org/sfc/apa/6179320311.html $3000 29 15\n",
      "http://sfbay.craigslist.org/sfc/apa/6217230717.html $2350 45 31\n",
      "http://sfbay.craigslist.org/sfc/apa/6217186836.html $2950 42 21\n",
      "http://sfbay.craigslist.org/sfc/apa/6212058819.html $2980 25 13\n",
      "http://sfbay.craigslist.org/sfc/apa/6197336491.html $2900 47 28\n",
      "http://sfbay.craigslist.org/sfc/apa/6217124354.html $2000 50 35\n",
      "http://sfbay.craigslist.org/sfc/apa/6217011831.html $2995 38 22\n",
      "http://sfbay.craigslist.org/sfc/apa/6216991948.html $1775 30 12\n",
      "http://sfbay.craigslist.org/sfc/apa/6207903317.html $2795 37 23\n",
      "http://sfbay.craigslist.org/sfc/apa/6206932418.html $1895 23 11\n",
      "http://sfbay.craigslist.org/sfc/apa/6216775551.html $2995 29 15\n",
      "http://sfbay.craigslist.org/sfc/apa/6216775551.html $2995 29 15\n",
      "http://sfbay.craigslist.org/sfc/apa/6205599768.html $2995 18 15\n",
      "http://sfbay.craigslist.org/sfc/apa/6216604051.html $3000 17 13\n",
      "http://sfbay.craigslist.org/sfc/apa/6179765689.html $3000 20 12\n",
      "http://sfbay.craigslist.org/sfc/apa/6216555445.html $1400 28 23\n",
      "http://sfbay.craigslist.org/sfc/apa/6216549168.html $1200 28 23\n",
      "http://sfbay.craigslist.org/sfc/apa/6193556942.html $2750 42 35\n",
      "http://sfbay.craigslist.org/sfc/apa/6198763034.html $2900 31 24\n",
      "http://sfbay.craigslist.org/sfc/apa/6186646708.html $2950 37 19\n"
     ]
    }
   ],
   "source": [
    "for i in range(len(listings)):\n",
    "#     print(listings[i].info)\n",
    "    if listings[i].info['transit'] and listings[i].info['transit'] <= 35:\n",
    "        print(listings[i].info['url'], listings[i].info['price'], listings[i].info['transit'], listings[i].info['bicycling'])\n",
    "    elif listings[i].info['transit'] and listings[i].info['bicycling'] <= 35:\n",
    "        print(listings[i].info['url'], listings[i].info['price'], listings[i].info['transit'], listings[i].info['bicycling'])"
   ]
  },
  {
   "cell_type": "code",
   "execution_count": null,
   "metadata": {
    "collapsed": true
   },
   "outputs": [],
   "source": []
  }
 ],
 "metadata": {
  "kernelspec": {
   "display_name": "Python 3",
   "language": "python",
   "name": "python3"
  },
  "language_info": {
   "codemirror_mode": {
    "name": "ipython",
    "version": 3
   },
   "file_extension": ".py",
   "mimetype": "text/x-python",
   "name": "python",
   "nbconvert_exporter": "python",
   "pygments_lexer": "ipython3",
   "version": "3.6.1"
  }
 },
 "nbformat": 4,
 "nbformat_minor": 2
}
