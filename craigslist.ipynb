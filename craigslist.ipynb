{
 "cells": [
  {
   "cell_type": "code",
   "execution_count": 1,
   "metadata": {},
   "outputs": [
    {
     "name": "stdout",
     "output_type": "stream",
     "text": [
      "SEARCHED:  https://sfbay.craigslist.org/sfc/apa/6178339033.html\n",
      "{'url': 'https://sfbay.craigslist.org/sfc/apa/6178339033.html', 'kind': 'apa', 'location': 'https://maps.google.com/?q=loc%3A+%36%30%30%30+Fulton+Street%2C+San+Francisco+CA+US', 'price': '$2600', 'available': 'available jul 15', 'transit': 10, 'bicycling': 7}\n"
     ]
    }
   ],
   "source": [
    "from constants import Constants\n",
    "from models import Listing\n",
    "from tinydb import TinyDB\n",
    "\n",
    "db = TinyDB(Constants.DATABASE())\n",
    "url = 'https://sfbay.craigslist.org/sfc/apa/6178339033.html'\n",
    "listing = Listing.from_url(db, url)\n",
    "print(listing.info)"
   ]
  },
  {
   "cell_type": "code",
   "execution_count": 1,
   "metadata": {
    "collapsed": true
   },
   "outputs": [],
   "source": [
    "from constants import Constants\n",
    "from models import *\n",
    "from tinydb import TinyDB\n",
    "\n",
    "db = TinyDB(Constants.DATABASE())\n",
    "engine = SearchEngine(db)"
   ]
  },
  {
   "cell_type": "code",
   "execution_count": 2,
   "metadata": {},
   "outputs": [
    {
     "name": "stdout",
     "output_type": "stream",
     "text": [
      "CACHED:  http://sfbay.craigslist.org/sfc/apa/6202235685.html\n",
      "CACHED:  http://sfbay.craigslist.org/sfc/apa/6216604051.html\n",
      "CACHED:  http://sfbay.craigslist.org/sfc/apa/6227302268.html\n",
      "CACHED:  http://sfbay.craigslist.org/sfc/apa/6227250250.html\n",
      "CACHED:  http://sfbay.craigslist.org/sfc/apa/6227235729.html\n",
      "CACHED:  http://sfbay.craigslist.org/sfc/apa/6205599768.html\n",
      "CACHED:  http://sfbay.craigslist.org/sfc/apa/6208030733.html\n",
      "CACHED:  http://sfbay.craigslist.org/sfc/apa/6207903317.html\n",
      "CACHED:  http://sfbay.craigslist.org/sfc/apa/6227157649.html\n",
      "CACHED:  http://sfbay.craigslist.org/sfc/apa/6207187484.html\n",
      "CACHED:  http://sfbay.craigslist.org/sfc/apa/6227142818.html\n",
      "CACHED:  http://sfbay.craigslist.org/sfc/apa/6227142578.html\n",
      "CACHED:  http://sfbay.craigslist.org/sfc/apa/6227095396.html\n",
      "CACHED:  http://sfbay.craigslist.org/sfc/apa/6218755164.html\n",
      "CACHED:  http://sfbay.craigslist.org/sfc/apa/6227021096.html\n",
      "CACHED:  http://sfbay.craigslist.org/sfc/apa/6212566899.html\n",
      "CACHED:  http://sfbay.craigslist.org/sfc/apa/6226883593.html\n",
      "CACHED:  http://sfbay.craigslist.org/sfc/apa/6226823188.html\n",
      "CACHED:  http://sfbay.craigslist.org/sfc/apa/6226772105.html\n",
      "CACHED:  http://sfbay.craigslist.org/pen/apa/6226715154.html\n",
      "CACHED:  http://sfbay.craigslist.org/pen/apa/6226714371.html\n",
      "CACHED:  http://sfbay.craigslist.org/pen/apa/6226716407.html\n",
      "CACHED:  http://sfbay.craigslist.org/sfc/apa/6226715498.html\n",
      "CACHED:  http://sfbay.craigslist.org/pen/apa/6226716407.html\n",
      "CACHED:  http://sfbay.craigslist.org/sfc/apa/6226715498.html\n",
      "CACHED:  http://sfbay.craigslist.org/sfc/apa/6185281346.html\n",
      "CACHED:  http://sfbay.craigslist.org/sfc/apa/6226615492.html\n",
      "CACHED:  http://sfbay.craigslist.org/sfc/apa/6226530501.html\n",
      "CACHED:  http://sfbay.craigslist.org/sfc/apa/6222942562.html\n",
      "CACHED:  http://sfbay.craigslist.org/sfc/apa/6191009131.html\n",
      "CACHED:  http://sfbay.craigslist.org/sfc/apa/6200984564.html\n",
      "CACHED:  http://sfbay.craigslist.org/sfc/apa/6226362932.html\n",
      "CACHED:  http://sfbay.craigslist.org/sfc/apa/6226342163.html\n",
      "CACHED:  http://sfbay.craigslist.org/sfc/apa/6221582573.html\n",
      "CACHED:  http://sfbay.craigslist.org/sfc/apa/6188170882.html\n",
      "CACHED:  http://sfbay.craigslist.org/sfc/apa/6226025767.html\n",
      "CACHED:  http://sfbay.craigslist.org/sfc/apa/6218687138.html\n",
      "CACHED:  http://sfbay.craigslist.org/sfc/apa/6225996407.html\n",
      "CACHED:  http://sfbay.craigslist.org/sfc/apa/6208052793.html\n",
      "CACHED:  http://sfbay.craigslist.org/pen/apa/6225980734.html\n",
      "CACHED:  http://sfbay.craigslist.org/sfc/apa/6217657316.html\n",
      "CACHED:  http://sfbay.craigslist.org/sfc/apa/6225936040.html\n",
      "CACHED:  http://sfbay.craigslist.org/sfc/apa/6218329729.html\n",
      "CACHED:  http://sfbay.craigslist.org/sfc/apa/6225845913.html\n",
      "CACHED:  http://sfbay.craigslist.org/sfc/apa/6218466264.html\n",
      "CACHED:  http://sfbay.craigslist.org/sfc/apa/6193556942.html\n"
     ]
    }
   ],
   "source": [
    "listings = engine.search(max_listings=25)"
   ]
  },
  {
   "cell_type": "code",
   "execution_count": 14,
   "metadata": {},
   "outputs": [
    {
     "data": {
      "text/plain": [
       "[{'available': 'available jul 15',\n",
       "  'bicycling': 7,\n",
       "  'kind': 'apa',\n",
       "  'location': 'https://maps.google.com/?q=loc%3A+%36%30%30%30+Fulton+Street%2C+San+Francisco+CA+US',\n",
       "  'price': '$2600',\n",
       "  'transit': 10,\n",
       "  'url': 'https://sfbay.craigslist.org/sfc/apa/6178339033.html'},\n",
       " {'available': 'available jul 15',\n",
       "  'bicycling': 13,\n",
       "  'kind': 'apa',\n",
       "  'location': 'https://maps.google.com/?q=loc%3A+alabama+at+precita+san+francisco+CA+US',\n",
       "  'price': '$3000',\n",
       "  'transit': 18,\n",
       "  'url': 'http://sfbay.craigslist.org/sfc/apa/6216604051.html'},\n",
       " {'available': 'available jul 20',\n",
       "  'bicycling': 21,\n",
       "  'kind': 'apa',\n",
       "  'location': 'https://maps.google.com/?q=loc%3A+Quesada+Ave+at+Ingalls+St+San+Francisco+CA+US',\n",
       "  'price': '$2650',\n",
       "  'transit': 39,\n",
       "  'url': 'http://sfbay.craigslist.org/sfc/apa/6227250250.html'},\n",
       " {'available': 'available jul 22',\n",
       "  'bicycling': 23,\n",
       "  'kind': 'apa',\n",
       "  'location': 'https://maps.google.com/?q=loc%3A+%31%30%30+Portola+Dr%2E+San+francisco+CA+US',\n",
       "  'price': '$2695',\n",
       "  'transit': 37,\n",
       "  'url': 'http://sfbay.craigslist.org/sfc/apa/6207903317.html'},\n",
       " {'available': 'available jul 31',\n",
       "  'bicycling': 25,\n",
       "  'kind': 'apa',\n",
       "  'location': 'https://maps.google.com/maps/preview/@37.719298,-122.390020,16z',\n",
       "  'price': '$2400',\n",
       "  'transit': 28,\n",
       "  'url': 'http://sfbay.craigslist.org/sfc/apa/6227095396.html'},\n",
       " {'available': 'available jul 19',\n",
       "  'bicycling': 15,\n",
       "  'kind': 'apa',\n",
       "  'location': 'https://maps.google.com/?q=loc%3A+%39%36%35+Geary+Street+San+Francisco+CA+US',\n",
       "  'price': '$2800',\n",
       "  'transit': 19,\n",
       "  'url': 'http://sfbay.craigslist.org/sfc/apa/6227021096.html'},\n",
       " {'available': 'available jul 19',\n",
       "  'bicycling': 16,\n",
       "  'kind': 'apa',\n",
       "  'location': 'https://maps.google.com/?q=loc%3A+Sacramento+Street+at+Franklin+Street+San+Francisco+CA+US',\n",
       "  'price': '$2000',\n",
       "  'transit': 24,\n",
       "  'url': 'http://sfbay.craigslist.org/sfc/apa/6226615492.html'},\n",
       " {'available': 'available jul 20',\n",
       "  'bicycling': 28,\n",
       "  'kind': 'apa',\n",
       "  'location': 'https://maps.google.com/?q=loc%3A+Miramar+at+Monterey+San+Francisco+CA+US',\n",
       "  'price': '$2880',\n",
       "  'transit': 35,\n",
       "  'url': 'http://sfbay.craigslist.org/sfc/apa/6218687138.html'},\n",
       " {'available': 'available jul 18',\n",
       "  'bicycling': 26,\n",
       "  'kind': 'apa',\n",
       "  'location': 'https://maps.google.com/maps/preview/@37.725040,-122.403660,16z',\n",
       "  'price': '$2250',\n",
       "  'transit': 21,\n",
       "  'url': 'http://sfbay.craigslist.org/sfc/apa/6225845913.html'},\n",
       " {'available': 'available jul 8',\n",
       "  'bicycling': 26,\n",
       "  'kind': 'apa',\n",
       "  'location': 'https://maps.google.com/maps/preview/@37.725040,-122.403638,16z',\n",
       "  'price': '$2250',\n",
       "  'transit': 21,\n",
       "  'url': 'http://sfbay.craigslist.org/sfc/apa/6218466264.html'},\n",
       " {'available': 'available jul 1',\n",
       "  'bicycling': 25,\n",
       "  'kind': 'apa',\n",
       "  'location': 'https://maps.google.com/maps/preview/@37.718834,-122.397479,16z',\n",
       "  'price': '$2600',\n",
       "  'transit': 31,\n",
       "  'url': 'http://sfbay.craigslist.org/sfc/apa/6219973416.html'},\n",
       " {'available': 'available jul 18',\n",
       "  'bicycling': 9,\n",
       "  'kind': 'apa',\n",
       "  'location': 'https://maps.google.com/?q=loc%3A+%32%30%33%38+McAllister+St+San+Francisco+CA+US',\n",
       "  'price': '$2800',\n",
       "  'transit': 20,\n",
       "  'url': 'http://sfbay.craigslist.org/sfc/apa/6225030263.html'},\n",
       " {'available': 'available jul 18',\n",
       "  'bicycling': 21,\n",
       "  'kind': 'apa',\n",
       "  'location': 'https://maps.google.com/?q=loc%3A+Lucy+San+Francisco+CA+US',\n",
       "  'price': '$2750',\n",
       "  'transit': 32,\n",
       "  'url': 'http://sfbay.craigslist.org/sfc/apa/6224940825.html'},\n",
       " {'available': 'available jul 15',\n",
       "  'bicycling': 28,\n",
       "  'kind': 'apa',\n",
       "  'location': 'https://maps.google.com/?q=loc%3A+%34%34%33+Harkness+San+Francisco+CA+US',\n",
       "  'price': '$2995',\n",
       "  'transit': 24,\n",
       "  'url': 'http://sfbay.craigslist.org/sfc/apa/6224928621.html'},\n",
       " {'available': 'available jul 16',\n",
       "  'bicycling': 15,\n",
       "  'kind': 'apa',\n",
       "  'location': 'https://maps.google.com/?q=loc%3A+%36%31%37+Post+St%2E%2C+SAN+FRANCISCO+CA+US',\n",
       "  'price': '$2500',\n",
       "  'transit': 24,\n",
       "  'url': 'http://sfbay.craigslist.org/sfc/apa/6223980282.html'},\n",
       " {'available': 'available jul 3',\n",
       "  'bicycling': 18,\n",
       "  'kind': 'apa',\n",
       "  'location': 'https://maps.google.com/?q=loc%3A+Elmira+St%2E+at+Augusta+St%2E+San+Francisco+CA+US',\n",
       "  'price': '$2100',\n",
       "  'transit': 21,\n",
       "  'url': 'http://sfbay.craigslist.org/sfc/apa/6203751960.html'},\n",
       " {'available': 'available jul 17',\n",
       "  'bicycling': 13,\n",
       "  'kind': 'apa',\n",
       "  'location': 'https://maps.google.com/?q=loc%3A+%31%30%36+San+Jose+Avenue+San+Francisco+CA+US',\n",
       "  'price': '$2980',\n",
       "  'transit': 25,\n",
       "  'url': 'http://sfbay.craigslist.org/sfc/apa/6212058819.html'}]"
      ]
     },
     "execution_count": 14,
     "metadata": {},
     "output_type": "execute_result"
    }
   ],
   "source": [
    "listings = engine.retrieve_bicycling()\n",
    "[l for l in listings if 'jul' in l.get('available', '').lower()]"
   ]
  },
  {
   "cell_type": "code",
   "execution_count": 14,
   "metadata": {
    "collapsed": true
   },
   "outputs": [],
   "source": [
    "from tinydb import Query\n",
    "\n",
    "transit = db.search(Query().transit.test(lambda val: val and int(val) <= 30))\n",
    "# bicycling = db.search(Query()['bicycling'] <= 30)"
   ]
  },
  {
   "cell_type": "code",
   "execution_count": 16,
   "metadata": {},
   "outputs": [
    {
     "name": "stdout",
     "output_type": "stream",
     "text": [
      "http://sfbay.craigslist.org/sfc/apa/6217234301.html 50 94\n",
      "http://sfbay.craigslist.org/sfc/apa/6217234301.html 50 94\n",
      "http://sfbay.craigslist.org/sfc/apa/6217234301.html 50 94\n",
      "http://sfbay.craigslist.org/sfc/apa/6217234301.html 50 94\n",
      "http://sfbay.craigslist.org/sfc/apa/6217234301.html 50 94\n",
      "http://sfbay.craigslist.org/sfc/apa/6217234301.html 50 94\n",
      "http://sfbay.craigslist.org/sfc/apa/6217234301.html 50 94\n",
      "http://sfbay.craigslist.org/sfc/apa/6217234301.html 50 94\n",
      "http://sfbay.craigslist.org/sfc/apa/6217234301.html 50 94\n",
      "http://sfbay.craigslist.org/sfc/apa/6217234301.html 50 94\n",
      "http://sfbay.craigslist.org/sfc/apa/6217234301.html 50 94\n",
      "http://sfbay.craigslist.org/sfc/apa/6217234301.html 50 94\n",
      "http://sfbay.craigslist.org/sfc/apa/6217234301.html 50 94\n",
      "http://sfbay.craigslist.org/sfc/apa/6217234301.html 50 94\n",
      "http://sfbay.craigslist.org/sfc/apa/6217234301.html 50 94\n",
      "http://sfbay.craigslist.org/sfc/apa/6217234301.html 50 94\n",
      "http://sfbay.craigslist.org/sfc/apa/6217234301.html 50 94\n",
      "http://sfbay.craigslist.org/sfc/apa/6217234301.html 50 94\n",
      "http://sfbay.craigslist.org/sfc/apa/6217234301.html 50 94\n",
      "http://sfbay.craigslist.org/sfc/apa/6217234301.html 50 94\n",
      "http://sfbay.craigslist.org/sfc/apa/6217234301.html 50 94\n",
      "http://sfbay.craigslist.org/sfc/apa/6217234301.html 50 94\n",
      "http://sfbay.craigslist.org/sfc/apa/6217234301.html 50 94\n",
      "http://sfbay.craigslist.org/sfc/apa/6217234301.html 50 94\n",
      "http://sfbay.craigslist.org/sfc/apa/6217234301.html 50 94\n",
      "http://sfbay.craigslist.org/sfc/apa/6217234301.html 50 94\n",
      "http://sfbay.craigslist.org/sfc/apa/6217234301.html 50 94\n",
      "http://sfbay.craigslist.org/sfc/apa/6217234301.html 50 94\n",
      "http://sfbay.craigslist.org/sfc/apa/6217234301.html 50 94\n",
      "http://sfbay.craigslist.org/sfc/apa/6217234301.html 50 94\n",
      "http://sfbay.craigslist.org/sfc/apa/6217234301.html 50 94\n",
      "http://sfbay.craigslist.org/sfc/apa/6217234301.html 50 94\n",
      "http://sfbay.craigslist.org/sfc/apa/6217234301.html 50 94\n",
      "http://sfbay.craigslist.org/sfc/apa/6217234301.html 50 94\n",
      "http://sfbay.craigslist.org/sfc/apa/6217234301.html 50 94\n",
      "http://sfbay.craigslist.org/sfc/apa/6217234301.html 50 94\n",
      "http://sfbay.craigslist.org/sfc/apa/6217234301.html 50 94\n"
     ]
    }
   ],
   "source": [
    "for l in transit:\n",
    "    print(listings[i].info['url'], listings[i].info['transit'], listings[i].info['bicycling'])"
   ]
  },
  {
   "cell_type": "code",
   "execution_count": null,
   "metadata": {
    "collapsed": true
   },
   "outputs": [],
   "source": []
  }
 ],
 "metadata": {
  "kernelspec": {
   "display_name": "Python 3",
   "language": "python",
   "name": "python3"
  },
  "language_info": {
   "codemirror_mode": {
    "name": "ipython",
    "version": 3
   },
   "file_extension": ".py",
   "mimetype": "text/x-python",
   "name": "python",
   "nbconvert_exporter": "python",
   "pygments_lexer": "ipython3",
   "version": "3.6.2"
  }
 },
 "nbformat": 4,
 "nbformat_minor": 2
}
