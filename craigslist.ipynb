{
 "cells": [
  {
   "cell_type": "code",
   "execution_count": 1,
   "metadata": {},
   "outputs": [],
   "source": [
    "import datetime\n",
    "import time\n",
    "\n",
    "from constants import *\n",
    "from models import Listing, SearchEngine\n",
    "from tinydb import TinyDB\n",
    "\n",
    "db = TinyDB(DATABASE())\n",
    "engine = SearchEngine(db)"
   ]
  },
  {
   "cell_type": "code",
   "execution_count": 4,
   "metadata": {},
   "outputs": [
    {
     "name": "stdout",
     "output_type": "stream",
     "text": [
      "{'url': 'http://sfbay.craigslist.org/sfc/apa/6202235685.html', 'kind': 'apa', 'location': 'https://maps.google.com/?q=loc%3A+%36TH+AVE+at+Cabrillo%2FFulton+San+Francisco+CA+US', 'price': '$2800', 'available': 'available jul 19', 'posted': '2017-07-02  3:47pm', 'transit': None, 'bicycling': None, 'stanford': None}\n"
     ]
    }
   ],
   "source": [
    "url = 'http://sfbay.craigslist.org/sfc/apa/6202235685.html'\n",
    "listing = Listing.from_url(db, url)\n",
    "print(listing.info)"
   ]
  },
  {
   "cell_type": "code",
   "execution_count": null,
   "metadata": {
    "collapsed": true
   },
   "outputs": [],
   "source": []
  },
  {
   "cell_type": "code",
   "execution_count": 2,
   "metadata": {},
   "outputs": [
    {
     "name": "stdout",
     "output_type": "stream",
     "text": [
      "SEARCH:  https://sfbay.craigslist.org/sfc/apa/d/sleek-bd-ba-flat-parking/6231107885.html\n",
      "SEARCH:  https://sfbay.craigslist.org/sfc/apa/6219973416.html\n",
      "SEARCH:  https://sfbay.craigslist.org/sfc/apa/d/walking-distance-to-sfsu/6231175816.html\n",
      "SEARCH:  http://sfbay.craigslist.org/sfc/apa/6231028259.html\n",
      "SEARCH:  http://sfbay.craigslist.org/sfc/apa/6231006372.html\n",
      "SEARCH:  http://sfbay.craigslist.org/sfc/apa/6230845008.html\n",
      "SEARCH:  http://sfbay.craigslist.org/sfc/apa/6205599768.html\n",
      "SEARCH:  http://sfbay.craigslist.org/sfc/apa/6202235685.html\n",
      "SEARCH:  http://sfbay.craigslist.org/sfc/apa/6209917609.html\n",
      "SEARCH:  http://sfbay.craigslist.org/sfc/apa/6230511077.html\n",
      "SEARCH:  http://sfbay.craigslist.org/sfc/apa/6230495386.html\n",
      "SEARCH:  http://sfbay.craigslist.org/sfc/apa/6227235729.html\n",
      "SEARCH:  http://sfbay.craigslist.org/sfc/apa/6230454678.html\n",
      "SEARCH:  http://sfbay.craigslist.org/sfc/apa/6216528393.html\n",
      "SEARCH:  http://sfbay.craigslist.org/sfc/apa/6218687138.html\n",
      "SEARCH:  http://sfbay.craigslist.org/sfc/apa/6230432186.html\n",
      "SEARCH:  http://sfbay.craigslist.org/sfc/apa/6221539430.html\n",
      "SEARCH:  http://sfbay.craigslist.org/sfc/apa/6221316163.html\n",
      "SEARCH:  http://sfbay.craigslist.org/sfc/apa/6230420014.html\n",
      "SEARCH:  http://sfbay.craigslist.org/sfc/apa/6222568137.html\n",
      "SEARCH:  http://sfbay.craigslist.org/sfc/apa/6191009131.html\n",
      "SEARCH:  http://sfbay.craigslist.org/sfc/apa/6223663644.html\n",
      "SEARCH:  http://sfbay.craigslist.org/sfc/apa/6230303399.html\n",
      "SEARCH:  http://sfbay.craigslist.org/sfc/apa/6230130500.html\n",
      "SEARCH:  http://sfbay.craigslist.org/sfc/apa/6212058819.html\n",
      "SEARCH:  http://sfbay.craigslist.org/sfc/apa/6208748347.html\n",
      "SEARCH:  http://sfbay.craigslist.org/sfc/apa/6230093264.html\n",
      "SEARCH:  http://sfbay.craigslist.org/sfc/apa/6224099208.html\n",
      "SEARCH:  http://sfbay.craigslist.org/sfc/apa/6209569616.html\n",
      "SEARCH:  http://sfbay.craigslist.org/sfc/apa/6212566899.html\n",
      "SEARCH:  http://sfbay.craigslist.org/sfc/apa/6230001443.html\n",
      "SEARCH:  http://sfbay.craigslist.org/sfc/apa/6229947701.html\n",
      "SEARCH:  http://sfbay.craigslist.org/sfc/apa/6229927496.html\n",
      "SEARCH:  http://sfbay.craigslist.org/sfc/apa/6229848419.html\n",
      "SEARCH:  http://sfbay.craigslist.org/sfc/apa/6229604656.html\n",
      "SEARCH:  http://sfbay.craigslist.org/sfc/apa/6229691330.html\n",
      "SEARCH:  http://sfbay.craigslist.org/sfc/apa/6229673240.html\n",
      "SEARCH:  http://sfbay.craigslist.org/sfc/apa/6194125410.html\n",
      "SEARCH:  http://sfbay.craigslist.org/sfc/apa/6229633545.html\n",
      "SEARCH:  http://sfbay.craigslist.org/sfc/apa/6219973416.html\n",
      "SEARCH:  http://sfbay.craigslist.org/sfc/apa/6223816017.html\n",
      "SEARCH:  http://sfbay.craigslist.org/sfc/apa/6226530501.html\n",
      "SEARCH:  http://sfbay.craigslist.org/sfc/apa/6229570124.html\n",
      "SEARCH:  http://sfbay.craigslist.org/sfc/apa/6222942562.html\n",
      "SEARCH:  http://sfbay.craigslist.org/sfc/apa/6229504498.html\n",
      "SEARCH:  http://sfbay.craigslist.org/sfc/apa/6218329729.html\n",
      "SEARCH:  http://sfbay.craigslist.org/sfc/apa/6229334924.html\n",
      "SEARCH:  http://sfbay.craigslist.org/sfc/apa/6211231253.html\n",
      "SEARCH:  http://sfbay.craigslist.org/sfc/apa/6213951507.html\n",
      "SEARCH:  http://sfbay.craigslist.org/sfc/apa/6208248917.html\n",
      "SEARCH:  http://sfbay.craigslist.org/sfc/apa/6188170882.html\n",
      "SEARCH:  http://sfbay.craigslist.org/sfc/apa/6228992261.html\n",
      "SEARCH:  http://sfbay.craigslist.org/sfc/apa/6218466264.html\n",
      "SEARCH:  http://sfbay.craigslist.org/sfc/apa/6225845913.html\n",
      "SEARCH:  http://sfbay.craigslist.org/sfc/apa/6223681482.html\n",
      "SEARCH:  http://sfbay.craigslist.org/sfc/apa/6228970779.html\n",
      "SEARCH:  http://sfbay.craigslist.org/sfc/apa/6228911234.html\n",
      "SEARCH:  http://sfbay.craigslist.org/sfc/apa/6228893548.html\n",
      "SEARCH:  http://sfbay.craigslist.org/sfc/apa/6228892205.html\n",
      "SEARCH:  http://sfbay.craigslist.org/sfc/apa/6193556942.html\n",
      "SEARCH:  http://sfbay.craigslist.org/sfc/apa/6221113552.html\n",
      "SEARCH:  http://sfbay.craigslist.org/sfc/apa/6228804492.html\n",
      "SEARCH:  http://sfbay.craigslist.org/pen/apa/6228782495.html\n",
      "SEARCH:  http://sfbay.craigslist.org/sfc/apa/6228734946.html\n",
      "SEARCH:  http://sfbay.craigslist.org/sfc/apa/6228733557.html\n",
      "SEARCH:  http://sfbay.craigslist.org/sfc/apa/6206495179.html\n",
      "SEARCH:  http://sfbay.craigslist.org/sfc/apa/6206495990.html\n",
      "SEARCH:  http://sfbay.craigslist.org/sfc/apa/6228631936.html\n",
      "SEARCH:  http://sfbay.craigslist.org/sfc/apa/6228585784.html\n",
      "SEARCH:  http://sfbay.craigslist.org/sfc/apa/6224064363.html\n",
      "SEARCH:  http://sfbay.craigslist.org/sfc/apa/6219348222.html\n",
      "SEARCH:  http://sfbay.craigslist.org/sfc/apa/6191369420.html\n",
      "SEARCH:  http://sfbay.craigslist.org/sfc/apa/6206147448.html\n",
      "SEARCH:  http://sfbay.craigslist.org/sfc/apa/6211059732.html\n",
      "SEARCH:  http://sfbay.craigslist.org/sfc/apa/6219491235.html\n",
      "SEARCH:  http://sfbay.craigslist.org/sfc/apa/6228188523.html\n",
      "SEARCH:  http://sfbay.craigslist.org/sfc/apa/6228175621.html\n",
      "SEARCH:  http://sfbay.craigslist.org/sfc/apa/6228127850.html\n",
      "SEARCH:  http://sfbay.craigslist.org/sfc/apa/6219749503.html\n",
      "SEARCH:  http://sfbay.craigslist.org/sfc/apa/6228093377.html\n",
      "SEARCH:  http://sfbay.craigslist.org/sfc/apa/6228080009.html\n",
      "SEARCH:  http://sfbay.craigslist.org/pen/apa/6228056214.html\n",
      "SEARCH:  http://sfbay.craigslist.org/sfc/apa/6228045865.html\n",
      "SEARCH:  http://sfbay.craigslist.org/sfc/apa/6224231882.html\n",
      "SEARCH:  http://sfbay.craigslist.org/sfc/apa/6221112646.html\n",
      "SEARCH:  http://sfbay.craigslist.org/sfc/apa/6223999597.html\n",
      "SEARCH:  http://sfbay.craigslist.org/pen/apa/6214211290.html\n",
      "SEARCH:  http://sfbay.craigslist.org/sfc/apa/6198763034.html\n",
      "SEARCH:  http://sfbay.craigslist.org/sfc/apa/6227554612.html\n",
      "SEARCH:  http://sfbay.craigslist.org/sfc/apa/6222515463.html\n",
      "SEARCH:  http://sfbay.craigslist.org/sfc/apa/6214011533.html\n",
      "SEARCH:  http://sfbay.craigslist.org/sfc/apa/6227440591.html\n",
      "SEARCH:  http://sfbay.craigslist.org/sfc/apa/6227438755.html\n",
      "SEARCH:  http://sfbay.craigslist.org/sfc/apa/6216604051.html\n",
      "SEARCH:  http://sfbay.craigslist.org/sfc/apa/6208030733.html\n",
      "SEARCH:  http://sfbay.craigslist.org/sfc/apa/6227157649.html\n",
      "SEARCH:  http://sfbay.craigslist.org/sfc/apa/6227142818.html\n",
      "SEARCH:  http://sfbay.craigslist.org/sfc/apa/6227142578.html\n",
      "SEARCH:  http://sfbay.craigslist.org/sfc/apa/6218755164.html\n",
      "SEARCH:  http://sfbay.craigslist.org/sfc/apa/6227021096.html\n",
      "SEARCH:  http://sfbay.craigslist.org/sfc/apa/6226883593.html\n"
     ]
    }
   ],
   "source": [
    "# engine.fetch()\n",
    "urls = engine.search()"
   ]
  },
  {
   "cell_type": "code",
   "execution_count": 2,
   "metadata": {
    "collapsed": true
   },
   "outputs": [],
   "source": [
    "from constants import Constants\n",
    "from models import *\n",
    "from tinydb import TinyDB\n",
    "\n",
    "db = TinyDB(Constants.DATABASE())\n",
    "engine = SearchEngine(db)"
   ]
  },
  {
   "cell_type": "code",
   "execution_count": 3,
   "metadata": {},
   "outputs": [
    {
     "name": "stdout",
     "output_type": "stream",
     "text": [
      "SEARCHED:  http://sfbay.craigslist.org/pen/apa/6228782495.html\n",
      "SEARCHED:  http://sfbay.craigslist.org/sfc/apa/6228775431.html\n",
      "SEARCHED:  http://sfbay.craigslist.org/sfc/apa/6228734946.html\n"
     ]
    },
    {
     "ename": "KeyboardInterrupt",
     "evalue": "",
     "output_type": "error",
     "traceback": [
      "\u001b[0;31m---------------------------------------------------------------------------\u001b[0m",
      "\u001b[0;31mKeyboardInterrupt\u001b[0m                         Traceback (most recent call last)",
      "\u001b[0;32m<ipython-input-3-e1c94556629c>\u001b[0m in \u001b[0;36m<module>\u001b[0;34m()\u001b[0m\n\u001b[0;32m----> 1\u001b[0;31m \u001b[0mlistings\u001b[0m \u001b[0;34m=\u001b[0m \u001b[0mengine\u001b[0m\u001b[0;34m.\u001b[0m\u001b[0msearch\u001b[0m\u001b[0;34m(\u001b[0m\u001b[0mmax_listings\u001b[0m\u001b[0;34m=\u001b[0m\u001b[0;36m25\u001b[0m\u001b[0;34m)\u001b[0m\u001b[0;34m\u001b[0m\u001b[0m\n\u001b[0m",
      "\u001b[0;32m~/Drive/Craigslist/models.py\u001b[0m in \u001b[0;36msearch\u001b[0;34m(self, start_index, max_listings)\u001b[0m\n\u001b[1;32m     36\u001b[0m         \u001b[0mlistings\u001b[0m\u001b[0;34m,\u001b[0m \u001b[0mdone\u001b[0m \u001b[0;34m=\u001b[0m \u001b[0;34m[\u001b[0m\u001b[0;34m]\u001b[0m\u001b[0;34m,\u001b[0m \u001b[0;32mFalse\u001b[0m\u001b[0;34m\u001b[0m\u001b[0m\n\u001b[1;32m     37\u001b[0m         \u001b[0;32mwhile\u001b[0m \u001b[0mlen\u001b[0m\u001b[0;34m(\u001b[0m\u001b[0mlistings\u001b[0m\u001b[0;34m)\u001b[0m \u001b[0;34m<\u001b[0m \u001b[0mmax_listings\u001b[0m\u001b[0;34m:\u001b[0m\u001b[0;34m\u001b[0m\u001b[0m\n\u001b[0;32m---> 38\u001b[0;31m             \u001b[0mpartial_listings\u001b[0m \u001b[0;34m=\u001b[0m \u001b[0mself\u001b[0m\u001b[0;34m.\u001b[0m\u001b[0m__search_page\u001b[0m\u001b[0;34m(\u001b[0m\u001b[0mstart_index\u001b[0m\u001b[0;34m)\u001b[0m\u001b[0;34m\u001b[0m\u001b[0m\n\u001b[0m\u001b[1;32m     39\u001b[0m             \u001b[0mstart_index\u001b[0m \u001b[0;34m+=\u001b[0m \u001b[0mlen\u001b[0m\u001b[0;34m(\u001b[0m\u001b[0mpartial_listings\u001b[0m\u001b[0;34m)\u001b[0m\u001b[0;34m\u001b[0m\u001b[0m\n\u001b[1;32m     40\u001b[0m             \u001b[0mlistings\u001b[0m \u001b[0;34m+=\u001b[0m \u001b[0mpartial_listings\u001b[0m\u001b[0;34m\u001b[0m\u001b[0m\n",
      "\u001b[0;32m~/Drive/Craigslist/models.py\u001b[0m in \u001b[0;36m__search_page\u001b[0;34m(self, start_index)\u001b[0m\n\u001b[1;32m     60\u001b[0m         \u001b[0mlistings\u001b[0m \u001b[0;34m=\u001b[0m \u001b[0;34m[\u001b[0m\u001b[0;34m]\u001b[0m\u001b[0;34m\u001b[0m\u001b[0m\n\u001b[1;32m     61\u001b[0m         \u001b[0;32mfor\u001b[0m \u001b[0mi\u001b[0m\u001b[0;34m,\u001b[0m \u001b[0murl\u001b[0m \u001b[0;32min\u001b[0m \u001b[0menumerate\u001b[0m\u001b[0;34m(\u001b[0m\u001b[0murls\u001b[0m\u001b[0;34m)\u001b[0m\u001b[0;34m:\u001b[0m\u001b[0;34m\u001b[0m\u001b[0m\n\u001b[0;32m---> 62\u001b[0;31m             \u001b[0mlisting\u001b[0m \u001b[0;34m=\u001b[0m \u001b[0mListing\u001b[0m\u001b[0;34m.\u001b[0m\u001b[0mfrom_url\u001b[0m\u001b[0;34m(\u001b[0m\u001b[0mself\u001b[0m\u001b[0;34m.\u001b[0m\u001b[0mdb\u001b[0m\u001b[0;34m,\u001b[0m \u001b[0murl\u001b[0m\u001b[0;34m)\u001b[0m\u001b[0;34m\u001b[0m\u001b[0m\n\u001b[0m\u001b[1;32m     63\u001b[0m             \u001b[0mlistings\u001b[0m\u001b[0;34m.\u001b[0m\u001b[0mappend\u001b[0m\u001b[0;34m(\u001b[0m\u001b[0mlisting\u001b[0m\u001b[0;34m)\u001b[0m\u001b[0;34m\u001b[0m\u001b[0m\n\u001b[1;32m     64\u001b[0m         \u001b[0;32mreturn\u001b[0m \u001b[0mlistings\u001b[0m\u001b[0;34m\u001b[0m\u001b[0m\n",
      "\u001b[0;32m~/Drive/Craigslist/models.py\u001b[0m in \u001b[0;36mfrom_url\u001b[0;34m(db, url)\u001b[0m\n\u001b[1;32m     17\u001b[0m             \u001b[0;32mreturn\u001b[0m \u001b[0mListing\u001b[0m\u001b[0;34m(\u001b[0m\u001b[0mresults\u001b[0m\u001b[0;34m[\u001b[0m\u001b[0;36m0\u001b[0m\u001b[0;34m]\u001b[0m\u001b[0;34m)\u001b[0m\u001b[0;34m\u001b[0m\u001b[0m\n\u001b[1;32m     18\u001b[0m         \u001b[0mprint\u001b[0m\u001b[0;34m(\u001b[0m\u001b[0;34m\"SEARCHED: \"\u001b[0m\u001b[0;34m,\u001b[0m \u001b[0murl\u001b[0m\u001b[0;34m)\u001b[0m\u001b[0;34m\u001b[0m\u001b[0m\n\u001b[0;32m---> 19\u001b[0;31m         \u001b[0minfo\u001b[0m \u001b[0;34m=\u001b[0m \u001b[0mget_info_from_url\u001b[0m\u001b[0;34m(\u001b[0m\u001b[0murl\u001b[0m\u001b[0;34m)\u001b[0m\u001b[0;34m\u001b[0m\u001b[0m\n\u001b[0m\u001b[1;32m     20\u001b[0m         \u001b[0;32mif\u001b[0m \u001b[0;34m'location'\u001b[0m \u001b[0;32min\u001b[0m \u001b[0minfo\u001b[0m \u001b[0;32mand\u001b[0m \u001b[0;34m'price'\u001b[0m \u001b[0;32min\u001b[0m \u001b[0minfo\u001b[0m\u001b[0;34m:\u001b[0m\u001b[0;34m\u001b[0m\u001b[0m\n\u001b[1;32m     21\u001b[0m             \u001b[0minfo\u001b[0m\u001b[0;34m[\u001b[0m\u001b[0;34m'transit'\u001b[0m\u001b[0;34m]\u001b[0m \u001b[0;34m=\u001b[0m \u001b[0mget_transit_time\u001b[0m\u001b[0;34m(\u001b[0m\u001b[0minfo\u001b[0m\u001b[0;34m[\u001b[0m\u001b[0;34m'location'\u001b[0m\u001b[0;34m]\u001b[0m\u001b[0;34m)\u001b[0m\u001b[0;34m\u001b[0m\u001b[0m\n",
      "\u001b[0;32m~/Drive/Craigslist/util.py\u001b[0m in \u001b[0;36mget_info_from_url\u001b[0;34m(url)\u001b[0m\n\u001b[1;32m     65\u001b[0m \u001b[0;34m\u001b[0m\u001b[0m\n\u001b[1;32m     66\u001b[0m \u001b[0;32mdef\u001b[0m \u001b[0mget_info_from_url\u001b[0m\u001b[0;34m(\u001b[0m\u001b[0murl\u001b[0m\u001b[0;34m)\u001b[0m\u001b[0;34m:\u001b[0m\u001b[0;34m\u001b[0m\u001b[0m\n\u001b[0;32m---> 67\u001b[0;31m     \u001b[0mtime\u001b[0m\u001b[0;34m.\u001b[0m\u001b[0msleep\u001b[0m\u001b[0;34m(\u001b[0m\u001b[0;36m3\u001b[0m\u001b[0;34m)\u001b[0m\u001b[0;34m\u001b[0m\u001b[0m\n\u001b[0m\u001b[1;32m     68\u001b[0m     \u001b[0mresponse\u001b[0m \u001b[0;34m=\u001b[0m \u001b[0mrequests\u001b[0m\u001b[0;34m.\u001b[0m\u001b[0mget\u001b[0m\u001b[0;34m(\u001b[0m\u001b[0murl\u001b[0m\u001b[0;34m)\u001b[0m\u001b[0;34m\u001b[0m\u001b[0m\n\u001b[1;32m     69\u001b[0m     \u001b[0msoup\u001b[0m \u001b[0;34m=\u001b[0m \u001b[0mBeautifulSoup\u001b[0m\u001b[0;34m(\u001b[0m\u001b[0mresponse\u001b[0m\u001b[0;34m.\u001b[0m\u001b[0mcontent\u001b[0m\u001b[0;34m,\u001b[0m \u001b[0;34m'lxml'\u001b[0m\u001b[0;34m)\u001b[0m\u001b[0;34m\u001b[0m\u001b[0m\n",
      "\u001b[0;31mKeyboardInterrupt\u001b[0m: "
     ]
    }
   ],
   "source": [
    "listings = engine.search(max_listings=25)"
   ]
  },
  {
   "cell_type": "code",
   "execution_count": 14,
   "metadata": {},
   "outputs": [
    {
     "data": {
      "text/plain": [
       "[{'available': 'available jul 15',\n",
       "  'bicycling': 7,\n",
       "  'kind': 'apa',\n",
       "  'location': 'https://maps.google.com/?q=loc%3A+%36%30%30%30+Fulton+Street%2C+San+Francisco+CA+US',\n",
       "  'price': '$2600',\n",
       "  'transit': 10,\n",
       "  'url': 'https://sfbay.craigslist.org/sfc/apa/6178339033.html'},\n",
       " {'available': 'available jul 15',\n",
       "  'bicycling': 13,\n",
       "  'kind': 'apa',\n",
       "  'location': 'https://maps.google.com/?q=loc%3A+alabama+at+precita+san+francisco+CA+US',\n",
       "  'price': '$3000',\n",
       "  'transit': 18,\n",
       "  'url': 'http://sfbay.craigslist.org/sfc/apa/6216604051.html'},\n",
       " {'available': 'available jul 20',\n",
       "  'bicycling': 21,\n",
       "  'kind': 'apa',\n",
       "  'location': 'https://maps.google.com/?q=loc%3A+Quesada+Ave+at+Ingalls+St+San+Francisco+CA+US',\n",
       "  'price': '$2650',\n",
       "  'transit': 39,\n",
       "  'url': 'http://sfbay.craigslist.org/sfc/apa/6227250250.html'},\n",
       " {'available': 'available jul 22',\n",
       "  'bicycling': 23,\n",
       "  'kind': 'apa',\n",
       "  'location': 'https://maps.google.com/?q=loc%3A+%31%30%30+Portola+Dr%2E+San+francisco+CA+US',\n",
       "  'price': '$2695',\n",
       "  'transit': 37,\n",
       "  'url': 'http://sfbay.craigslist.org/sfc/apa/6207903317.html'},\n",
       " {'available': 'available jul 31',\n",
       "  'bicycling': 25,\n",
       "  'kind': 'apa',\n",
       "  'location': 'https://maps.google.com/maps/preview/@37.719298,-122.390020,16z',\n",
       "  'price': '$2400',\n",
       "  'transit': 28,\n",
       "  'url': 'http://sfbay.craigslist.org/sfc/apa/6227095396.html'},\n",
       " {'available': 'available jul 19',\n",
       "  'bicycling': 15,\n",
       "  'kind': 'apa',\n",
       "  'location': 'https://maps.google.com/?q=loc%3A+%39%36%35+Geary+Street+San+Francisco+CA+US',\n",
       "  'price': '$2800',\n",
       "  'transit': 19,\n",
       "  'url': 'http://sfbay.craigslist.org/sfc/apa/6227021096.html'},\n",
       " {'available': 'available jul 19',\n",
       "  'bicycling': 16,\n",
       "  'kind': 'apa',\n",
       "  'location': 'https://maps.google.com/?q=loc%3A+Sacramento+Street+at+Franklin+Street+San+Francisco+CA+US',\n",
       "  'price': '$2000',\n",
       "  'transit': 24,\n",
       "  'url': 'http://sfbay.craigslist.org/sfc/apa/6226615492.html'},\n",
       " {'available': 'available jul 20',\n",
       "  'bicycling': 28,\n",
       "  'kind': 'apa',\n",
       "  'location': 'https://maps.google.com/?q=loc%3A+Miramar+at+Monterey+San+Francisco+CA+US',\n",
       "  'price': '$2880',\n",
       "  'transit': 35,\n",
       "  'url': 'http://sfbay.craigslist.org/sfc/apa/6218687138.html'},\n",
       " {'available': 'available jul 18',\n",
       "  'bicycling': 26,\n",
       "  'kind': 'apa',\n",
       "  'location': 'https://maps.google.com/maps/preview/@37.725040,-122.403660,16z',\n",
       "  'price': '$2250',\n",
       "  'transit': 21,\n",
       "  'url': 'http://sfbay.craigslist.org/sfc/apa/6225845913.html'},\n",
       " {'available': 'available jul 8',\n",
       "  'bicycling': 26,\n",
       "  'kind': 'apa',\n",
       "  'location': 'https://maps.google.com/maps/preview/@37.725040,-122.403638,16z',\n",
       "  'price': '$2250',\n",
       "  'transit': 21,\n",
       "  'url': 'http://sfbay.craigslist.org/sfc/apa/6218466264.html'},\n",
       " {'available': 'available jul 1',\n",
       "  'bicycling': 25,\n",
       "  'kind': 'apa',\n",
       "  'location': 'https://maps.google.com/maps/preview/@37.718834,-122.397479,16z',\n",
       "  'price': '$2600',\n",
       "  'transit': 31,\n",
       "  'url': 'http://sfbay.craigslist.org/sfc/apa/6219973416.html'},\n",
       " {'available': 'available jul 18',\n",
       "  'bicycling': 9,\n",
       "  'kind': 'apa',\n",
       "  'location': 'https://maps.google.com/?q=loc%3A+%32%30%33%38+McAllister+St+San+Francisco+CA+US',\n",
       "  'price': '$2800',\n",
       "  'transit': 20,\n",
       "  'url': 'http://sfbay.craigslist.org/sfc/apa/6225030263.html'},\n",
       " {'available': 'available jul 18',\n",
       "  'bicycling': 21,\n",
       "  'kind': 'apa',\n",
       "  'location': 'https://maps.google.com/?q=loc%3A+Lucy+San+Francisco+CA+US',\n",
       "  'price': '$2750',\n",
       "  'transit': 32,\n",
       "  'url': 'http://sfbay.craigslist.org/sfc/apa/6224940825.html'},\n",
       " {'available': 'available jul 15',\n",
       "  'bicycling': 28,\n",
       "  'kind': 'apa',\n",
       "  'location': 'https://maps.google.com/?q=loc%3A+%34%34%33+Harkness+San+Francisco+CA+US',\n",
       "  'price': '$2995',\n",
       "  'transit': 24,\n",
       "  'url': 'http://sfbay.craigslist.org/sfc/apa/6224928621.html'},\n",
       " {'available': 'available jul 16',\n",
       "  'bicycling': 15,\n",
       "  'kind': 'apa',\n",
       "  'location': 'https://maps.google.com/?q=loc%3A+%36%31%37+Post+St%2E%2C+SAN+FRANCISCO+CA+US',\n",
       "  'price': '$2500',\n",
       "  'transit': 24,\n",
       "  'url': 'http://sfbay.craigslist.org/sfc/apa/6223980282.html'},\n",
       " {'available': 'available jul 3',\n",
       "  'bicycling': 18,\n",
       "  'kind': 'apa',\n",
       "  'location': 'https://maps.google.com/?q=loc%3A+Elmira+St%2E+at+Augusta+St%2E+San+Francisco+CA+US',\n",
       "  'price': '$2100',\n",
       "  'transit': 21,\n",
       "  'url': 'http://sfbay.craigslist.org/sfc/apa/6203751960.html'},\n",
       " {'available': 'available jul 17',\n",
       "  'bicycling': 13,\n",
       "  'kind': 'apa',\n",
       "  'location': 'https://maps.google.com/?q=loc%3A+%31%30%36+San+Jose+Avenue+San+Francisco+CA+US',\n",
       "  'price': '$2980',\n",
       "  'transit': 25,\n",
       "  'url': 'http://sfbay.craigslist.org/sfc/apa/6212058819.html'}]"
      ]
     },
     "execution_count": 14,
     "metadata": {},
     "output_type": "execute_result"
    }
   ],
   "source": [
    "listings = engine.retrieve_bicycling()\n",
    "[l for l in listings if 'jul' in l.get('available', '').lower()]"
   ]
  },
  {
   "cell_type": "code",
   "execution_count": 14,
   "metadata": {
    "collapsed": true
   },
   "outputs": [],
   "source": [
    "from tinydb import Query\n",
    "\n",
    "transit = db.search(Query().transit.test(lambda val: val and int(val) <= 30))\n",
    "# bicycling = db.search(Query()['bicycling'] <= 30)"
   ]
  },
  {
   "cell_type": "code",
   "execution_count": 16,
   "metadata": {},
   "outputs": [
    {
     "name": "stdout",
     "output_type": "stream",
     "text": [
      "http://sfbay.craigslist.org/sfc/apa/6217234301.html 50 94\n",
      "http://sfbay.craigslist.org/sfc/apa/6217234301.html 50 94\n",
      "http://sfbay.craigslist.org/sfc/apa/6217234301.html 50 94\n",
      "http://sfbay.craigslist.org/sfc/apa/6217234301.html 50 94\n",
      "http://sfbay.craigslist.org/sfc/apa/6217234301.html 50 94\n",
      "http://sfbay.craigslist.org/sfc/apa/6217234301.html 50 94\n",
      "http://sfbay.craigslist.org/sfc/apa/6217234301.html 50 94\n",
      "http://sfbay.craigslist.org/sfc/apa/6217234301.html 50 94\n",
      "http://sfbay.craigslist.org/sfc/apa/6217234301.html 50 94\n",
      "http://sfbay.craigslist.org/sfc/apa/6217234301.html 50 94\n",
      "http://sfbay.craigslist.org/sfc/apa/6217234301.html 50 94\n",
      "http://sfbay.craigslist.org/sfc/apa/6217234301.html 50 94\n",
      "http://sfbay.craigslist.org/sfc/apa/6217234301.html 50 94\n",
      "http://sfbay.craigslist.org/sfc/apa/6217234301.html 50 94\n",
      "http://sfbay.craigslist.org/sfc/apa/6217234301.html 50 94\n",
      "http://sfbay.craigslist.org/sfc/apa/6217234301.html 50 94\n",
      "http://sfbay.craigslist.org/sfc/apa/6217234301.html 50 94\n",
      "http://sfbay.craigslist.org/sfc/apa/6217234301.html 50 94\n",
      "http://sfbay.craigslist.org/sfc/apa/6217234301.html 50 94\n",
      "http://sfbay.craigslist.org/sfc/apa/6217234301.html 50 94\n",
      "http://sfbay.craigslist.org/sfc/apa/6217234301.html 50 94\n",
      "http://sfbay.craigslist.org/sfc/apa/6217234301.html 50 94\n",
      "http://sfbay.craigslist.org/sfc/apa/6217234301.html 50 94\n",
      "http://sfbay.craigslist.org/sfc/apa/6217234301.html 50 94\n",
      "http://sfbay.craigslist.org/sfc/apa/6217234301.html 50 94\n",
      "http://sfbay.craigslist.org/sfc/apa/6217234301.html 50 94\n",
      "http://sfbay.craigslist.org/sfc/apa/6217234301.html 50 94\n",
      "http://sfbay.craigslist.org/sfc/apa/6217234301.html 50 94\n",
      "http://sfbay.craigslist.org/sfc/apa/6217234301.html 50 94\n",
      "http://sfbay.craigslist.org/sfc/apa/6217234301.html 50 94\n",
      "http://sfbay.craigslist.org/sfc/apa/6217234301.html 50 94\n",
      "http://sfbay.craigslist.org/sfc/apa/6217234301.html 50 94\n",
      "http://sfbay.craigslist.org/sfc/apa/6217234301.html 50 94\n",
      "http://sfbay.craigslist.org/sfc/apa/6217234301.html 50 94\n",
      "http://sfbay.craigslist.org/sfc/apa/6217234301.html 50 94\n",
      "http://sfbay.craigslist.org/sfc/apa/6217234301.html 50 94\n",
      "http://sfbay.craigslist.org/sfc/apa/6217234301.html 50 94\n"
     ]
    }
   ],
   "source": [
    "for l in transit:\n",
    "    print(listings[i].info['url'], listings[i].info['transit'], listings[i].info['bicycling'])"
   ]
  },
  {
   "cell_type": "code",
   "execution_count": null,
   "metadata": {
    "collapsed": true
   },
   "outputs": [],
   "source": []
  }
 ],
 "metadata": {
  "kernelspec": {
   "display_name": "Python 3",
   "language": "python",
   "name": "python3"
  },
  "language_info": {
   "codemirror_mode": {
    "name": "ipython",
    "version": 3
   },
   "file_extension": ".py",
   "mimetype": "text/x-python",
   "name": "python",
   "nbconvert_exporter": "python",
   "pygments_lexer": "ipython3",
   "version": "3.6.2"
  }
 },
 "nbformat": 4,
 "nbformat_minor": 2
}
