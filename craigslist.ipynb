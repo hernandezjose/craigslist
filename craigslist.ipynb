{
 "cells": [
  {
   "cell_type": "code",
   "execution_count": 1,
   "metadata": {
    "collapsed": true
   },
   "outputs": [],
   "source": [
    "from constants import Constants\n",
    "\n",
    "from models import *\n",
    "from tinydb import TinyDB"
   ]
  },
  {
   "cell_type": "code",
   "execution_count": 2,
   "metadata": {
    "collapsed": true
   },
   "outputs": [],
   "source": [
    "db = TinyDB(Constants.DATABASE())\n",
    "engine = SearchEngine(db)"
   ]
  },
  {
   "cell_type": "code",
   "execution_count": null,
   "metadata": {},
   "outputs": [
    {
     "name": "stdout",
     "output_type": "stream",
     "text": [
      "SEARCHED:  http://sfbay.craigslist.org/sfc/apa/6221489621.html\n",
      "SEARCHED:  http://sfbay.craigslist.org/sfc/apa/6221498971.html\n",
      "SEARCHED:  http://sfbay.craigslist.org/sfc/apa/6221339126.html\n",
      "SEARCHED:  http://sfbay.craigslist.org/sfc/apa/6221341466.html\n",
      "SEARCHED:  http://sfbay.craigslist.org/sfc/apa/6221316163.html\n",
      "SEARCHED:  http://sfbay.craigslist.org/sfc/apa/6221313689.html\n",
      "CACHED:  http://sfbay.craigslist.org/sfc/apa/6218329729.html\n",
      "SEARCHED:  http://sfbay.craigslist.org/sfc/apa/6221270293.html\n",
      "SEARCHED:  http://sfbay.craigslist.org/pen/apa/6221266656.html\n",
      "SEARCHED:  http://sfbay.craigslist.org/sfc/apa/6221154053.html\n",
      "SEARCHED:  http://sfbay.craigslist.org/sfc/apa/6194125410.html\n",
      "SEARCHED:  http://sfbay.craigslist.org/sfc/apa/6221113552.html\n",
      "SEARCHED:  http://sfbay.craigslist.org/sfc/apa/6221112646.html\n",
      "SEARCHED:  http://sfbay.craigslist.org/sfc/apa/6221070643.html\n",
      "CACHED:  http://sfbay.craigslist.org/sfc/apa/6216272592.html\n",
      "CACHED:  http://sfbay.craigslist.org/sfc/apa/6179320311.html\n",
      "SEARCHED:  http://sfbay.craigslist.org/sfc/apa/6220117619.html\n",
      "SEARCHED:  http://sfbay.craigslist.org/sfc/apa/6213951507.html\n",
      "SEARCHED:  http://sfbay.craigslist.org/sfc/apa/6220759249.html\n",
      "SEARCHED:  http://sfbay.craigslist.org/sfc/apa/6220671639.html\n",
      "SEARCHED:  http://sfbay.craigslist.org/sfc/apa/6220648286.html\n",
      "SEARCHED:  http://sfbay.craigslist.org/sfc/apa/6211231253.html\n"
     ]
    }
   ],
   "source": [
    "listings = engine.search_all(50)"
   ]
  },
  {
   "cell_type": "code",
   "execution_count": null,
   "metadata": {},
   "outputs": [],
   "source": [
    "len(listings)"
   ]
  },
  {
   "cell_type": "code",
   "execution_count": null,
   "metadata": {},
   "outputs": [],
   "source": [
    "for i in range(len(listings)):\n",
    "#     print(listings[i].info)\n",
    "    if listings[i].info['transit'] and listings[i].info['transit'] <= 35:\n",
    "        print(listings[i].info['url'], listings[i].info['transit'], listings[i].info['bicycling'])\n",
    "    elif listings[i].info['transit'] and listings[i].info['bicycling'] <= 35:\n",
    "        print(listings[i].info['url'], listings[i].info['transit'], listings[i].info['bicycling'])"
   ]
  },
  {
   "cell_type": "code",
   "execution_count": null,
   "metadata": {
    "collapsed": true
   },
   "outputs": [],
   "source": []
  }
 ],
 "metadata": {
  "kernelspec": {
   "display_name": "Python 3",
   "language": "python",
   "name": "python3"
  },
  "language_info": {
   "codemirror_mode": {
    "name": "ipython",
    "version": 3
   },
   "file_extension": ".py",
   "mimetype": "text/x-python",
   "name": "python",
   "nbconvert_exporter": "python",
   "pygments_lexer": "ipython3",
   "version": "3.6.1"
  }
 },
 "nbformat": 4,
 "nbformat_minor": 2
}
